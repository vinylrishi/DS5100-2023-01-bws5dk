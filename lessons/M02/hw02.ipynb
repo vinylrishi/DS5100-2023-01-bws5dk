{
 "cells": [
  {
   "cell_type": "markdown",
   "metadata": {
    "tags": []
   },
   "source": [
    "# Metadata\n",
    "\n",
    "```{yaml}\n",
    "Course:   DS 5100\n",
    "Term:     Spring 2023 Online\n",
    "Module:   M02 Homework\n",
    "Author:   R.C. Alvarado\n",
    "Date:     01 February 2023\n",
    "```"
   ]
  },
  {
   "cell_type": "markdown",
   "metadata": {},
   "source": [
    "# Student Info\n",
    "\n",
    "* Name: Rishi Sharma\n",
    "* Net ID: bws5dk\n",
    "* URL of this file in GitHub: https://github.com/vinylrishi/DS5100-2023-01-bws5dk/blob/main/lessons/M02/hw02.ipynb"
   ]
  },
  {
   "cell_type": "markdown",
   "metadata": {
    "tags": []
   },
   "source": [
    "# Instructions\n",
    "\n",
    "In your **private course repo on Rivanna**, write a Jupyter notebook running Python that performs the numbered tasks below. For each task, create a code block to perform the task.\n",
    "\n",
    "Save your notebook in the `M02` directory as `hw02.ipynb`. \n",
    "\n",
    "Add and commit these files to your repo. \n",
    "\n",
    "Then push your commits to your repo on GitHib.\n",
    "\n",
    "Be sure to fill out the **Student Info** block above.\n",
    "\n",
    "To submit your homework, save the notebook as a PDF and upload it to GradeScope, following the instructions."
   ]
  },
  {
   "cell_type": "markdown",
   "metadata": {
    "tags": []
   },
   "source": [
    "# Data\n",
    "\n",
    "```\n",
    "Table 1: GRADES\n",
    "\n",
    "name    grade\n",
    "Jon     95\n",
    "Mike    84\n",
    "Jaime   99\n",
    "\n",
    "\n",
    "Table 2: TOUCHDOWNS\n",
    "\n",
    "name    touchdowns\n",
    "Alex    2\n",
    "Patrick 4\n",
    "Tom     1\n",
    "Joe     3\n",
    "Alex    1\n",
    "```"
   ]
  },
  {
   "cell_type": "markdown",
   "metadata": {
    "tags": []
   },
   "source": [
    "# Tasks"
   ]
  },
  {
   "cell_type": "markdown",
   "metadata": {
    "tags": []
   },
   "source": [
    "## Task 1\n",
    "\n",
    "Using the data in Table 1, create a dictionary called `gradebook` where the keys contain the names and the values are the associated grades. Print the dictionary.  (1 PT) "
   ]
  },
  {
   "cell_type": "code",
   "execution_count": 2,
   "metadata": {},
   "outputs": [
    {
     "name": "stdout",
     "output_type": "stream",
     "text": [
      "{'Jon': 95, 'Mike': 84, 'Jaime': 99}\n"
     ]
    }
   ],
   "source": [
    "gradebook = {'Jon': 95, 'Mike': 84, 'Jaime': 99}\n",
    "print(gradebook)"
   ]
  },
  {
   "cell_type": "markdown",
   "metadata": {
    "tags": []
   },
   "source": [
    "## Task 2 \n",
    "\n",
    "Index into the gradebook to print Mike's grade. Do NOT use the `get()` method for this. (1 PT) "
   ]
  },
  {
   "cell_type": "code",
   "execution_count": 3,
   "metadata": {},
   "outputs": [
    {
     "name": "stdout",
     "output_type": "stream",
     "text": [
      "84\n"
     ]
    }
   ],
   "source": [
    "print(gradebook['Mike'])"
   ]
  },
  {
   "cell_type": "markdown",
   "metadata": {
    "tags": []
   },
   "source": [
    "## Task 3\n",
    "\n",
    "Attempt to index into gradebook to print Jeff's grade. Show the result. Do NOT use the `get()` method for this. (1 PT) "
   ]
  },
  {
   "cell_type": "code",
   "execution_count": 4,
   "metadata": {},
   "outputs": [
    {
     "ename": "KeyError",
     "evalue": "'Jeff'",
     "output_type": "error",
     "traceback": [
      "\u001b[0;31m---------------------------------------------------------------------------\u001b[0m",
      "\u001b[0;31mKeyError\u001b[0m                                  Traceback (most recent call last)",
      "\u001b[0;32m<ipython-input-4-eaca378f0c1d>\u001b[0m in \u001b[0;36m<module>\u001b[0;34m\u001b[0m\n\u001b[0;32m----> 1\u001b[0;31m \u001b[0mprint\u001b[0m\u001b[0;34m(\u001b[0m\u001b[0mgradebook\u001b[0m\u001b[0;34m[\u001b[0m\u001b[0;34m'Jeff'\u001b[0m\u001b[0;34m]\u001b[0m\u001b[0;34m)\u001b[0m\u001b[0;34m\u001b[0m\u001b[0;34m\u001b[0m\u001b[0m\n\u001b[0m",
      "\u001b[0;31mKeyError\u001b[0m: 'Jeff'"
     ]
    }
   ],
   "source": [
    "print(gradebook['Jeff'])"
   ]
  },
  {
   "cell_type": "markdown",
   "metadata": {
    "tags": []
   },
   "source": [
    "## Task 4\n",
    "\n",
    "Using Table 2, build a list from the names called `names` and print it. (1 PT) "
   ]
  },
  {
   "cell_type": "code",
   "execution_count": 5,
   "metadata": {},
   "outputs": [
    {
     "name": "stdout",
     "output_type": "stream",
     "text": [
      "['Alex', 'Patrick', 'Tom', 'Joe', 'Alex']\n"
     ]
    }
   ],
   "source": [
    "names = ['Alex','Patrick','Tom','Joe','Alex']\n",
    "print(names)"
   ]
  },
  {
   "cell_type": "markdown",
   "metadata": {
    "tags": []
   },
   "source": [
    "## Task 5\n",
    "\n",
    "Sort the list in ascending order and print it. (1 PT) "
   ]
  },
  {
   "cell_type": "code",
   "execution_count": 6,
   "metadata": {},
   "outputs": [
    {
     "name": "stdout",
     "output_type": "stream",
     "text": [
      "['Alex', 'Alex', 'Joe', 'Patrick', 'Tom']\n"
     ]
    }
   ],
   "source": [
    "names.sort()\n",
    "print(names)"
   ]
  },
  {
   "cell_type": "markdown",
   "metadata": {
    "tags": []
   },
   "source": [
    "## Task 6 \n",
    "\n",
    "Build a set from the names in Table 2 and print it. (1 PT) "
   ]
  },
  {
   "cell_type": "code",
   "execution_count": 7,
   "metadata": {},
   "outputs": [
    {
     "name": "stdout",
     "output_type": "stream",
     "text": [
      "{'Tom', 'Joe', 'Patrick', 'Alex'}\n"
     ]
    }
   ],
   "source": [
    "names_set = set(names)\n",
    "print(names_set)"
   ]
  },
  {
   "cell_type": "markdown",
   "metadata": {
    "tags": []
   },
   "source": [
    "## Task 7\n",
    "\n",
    "Build a dictionary from the touchdowns data, calling it `td`, and print it. Use lists to store the values. Remember that dictionary keys must be unique. (1 PT) "
   ]
  },
  {
   "cell_type": "code",
   "execution_count": 8,
   "metadata": {},
   "outputs": [
    {
     "name": "stdout",
     "output_type": "stream",
     "text": [
      "{'Alex': [2, 1], 'Patrick': [4], 'Tom': [1], 'Joe': [3]}\n"
     ]
    }
   ],
   "source": [
    "td = {'Alex': [2,1],'Patrick' : [4],'Tom': [1],'Joe' : [3]}\n",
    "print(td)"
   ]
  },
  {
   "cell_type": "markdown",
   "metadata": {
    "tags": []
   },
   "source": [
    "## Task 8\n",
    "\n",
    "Computer the sum of Alex's touchdowns using the appropriate built-in function."
   ]
  },
  {
   "cell_type": "code",
   "execution_count": 9,
   "metadata": {},
   "outputs": [
    {
     "name": "stdout",
     "output_type": "stream",
     "text": [
      "3\n"
     ]
    }
   ],
   "source": [
    "Alex_TDs = sum(td['Alex'])\n",
    "print(Alex_TDs)"
   ]
  },
  {
   "cell_type": "markdown",
   "metadata": {
    "tags": []
   },
   "source": [
    "## Task 9\n",
    "\n",
    "Get the keys from `td` and save them as a sorted list `list1`. Then get a set from `names` and save them as a sorted list called `list2`. Compare them with a boolean operator to see if they are equal. (2 PTS)"
   ]
  },
  {
   "cell_type": "code",
   "execution_count": 10,
   "metadata": {},
   "outputs": [
    {
     "name": "stdout",
     "output_type": "stream",
     "text": [
      "['Alex', 'Joe', 'Patrick', 'Tom']\n",
      "['Alex', 'Joe', 'Patrick', 'Tom']\n"
     ]
    },
    {
     "data": {
      "text/plain": [
       "True"
      ]
     },
     "execution_count": 10,
     "metadata": {},
     "output_type": "execute_result"
    }
   ],
   "source": [
    "list1 = sorted(td.keys())\n",
    "print(list1)\n",
    "list2 = sorted(set(names))\n",
    "print(list2)\n",
    "list1 == list2"
   ]
  },
  {
   "cell_type": "code",
   "execution_count": null,
   "metadata": {},
   "outputs": [],
   "source": []
  }
 ],
 "metadata": {
  "kernelspec": {
   "display_name": "Python 3",
   "language": "python",
   "name": "python3"
  },
  "language_info": {
   "codemirror_mode": {
    "name": "ipython",
    "version": 3
   },
   "file_extension": ".py",
   "mimetype": "text/x-python",
   "name": "python",
   "nbconvert_exporter": "python",
   "pygments_lexer": "ipython3",
   "version": "3.8.8"
  },
  "vscode": {
   "interpreter": {
    "hash": "0d40f48c359f7fb09d10b37074c5a8a7b9ba13f6f9f4cda940ac7f06e5330cc1"
   }
  },
  "widgets": {
   "application/vnd.jupyter.widget-state+json": {
    "state": {},
    "version_major": 2,
    "version_minor": 0
   }
  }
 },
 "nbformat": 4,
 "nbformat_minor": 5
}
