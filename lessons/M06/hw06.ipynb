{
 "cells": [
  {
   "attachments": {},
   "cell_type": "markdown",
   "metadata": {},
   "source": [
    "# Metadata\n",
    "\n",
    "```yaml\n",
    "Course:  DS 5100\n",
    "Module:  06 Pandas\n",
    "Topic:   HW Myocardial Infarction Analytics with Pandas\n",
    "Author:  R.C. Alvarado (adapted)\n",
    "Date:    01 March 2023\n",
    "```"
   ]
  },
  {
   "attachments": {},
   "cell_type": "markdown",
   "metadata": {},
   "source": [
    "# Student Info\n",
    "\n",
    "* Name:  Rishi Sharma\n",
    "* Net UD: bws5dk\n",
    "* URL of this file in GitHub: https://github.com/vinylrishi/DS5100-2023-01-bws5dk/tree/main/lessons/M06/hw06.ipynb"
   ]
  },
  {
   "cell_type": "markdown",
   "metadata": {},
   "source": [
    "# Instructions\n",
    "\n",
    "In your **private course repo on Rivanna**, use this Jupyter notebook and the data file described to write code that performs the tasks below. \n",
    "\n",
    "Save your notebook in the `M06` directory.\n",
    "\n",
    "Remember to add and commit these files to your repo. \n",
    "\n",
    "Then push your commits to your repo on GitHib.\n",
    "\n",
    "Be sure to fill out the **Student Info** block above.\n",
    "\n",
    "To submit your homework, save the notebook as a PDF and upload it to GradeScope, following the instructions.\n",
    "\n",
    "**TOTAL POINTS: 12**\n"
   ]
  },
  {
   "cell_type": "markdown",
   "metadata": {},
   "source": [
    "# Overview\n",
    "\n",
    "In this homework, you will be working with the Myocardial Infarction (MI) Complications Data Set housed at UCI. \n",
    "\n",
    "A myocardial infarction is commonly called a heart attack. \n",
    "\n",
    "You may Read about the dataset in the [Data Description File (DDF)](https://archive.ics.uci.edu/ml/datasets/Myocardial+infarction+complications#).\n",
    "\n",
    "You will work with some of the columns (aka features). \n",
    "\n",
    "A subset of these could be predictors in an ML model, while others could be outcome variables. \n",
    "\n",
    "The section **Attribute Information** in the DDF provides details."
   ]
  },
  {
   "cell_type": "markdown",
   "metadata": {},
   "source": [
    "# Setting Up"
   ]
  },
  {
   "cell_type": "code",
   "execution_count": 1,
   "metadata": {},
   "outputs": [],
   "source": [
    "import pandas as pd\n",
    "import numpy as np"
   ]
  },
  {
   "cell_type": "markdown",
   "metadata": {
    "tags": []
   },
   "source": [
    "# Prepare the Data \n",
    "\n",
    "Read in the dataset from the UCI Machine Learning Repository.\n",
    "\n",
    "Use Pandas' `read_csv()` function, giving the path to the dataset as an argument.  \n",
    "\n",
    "There is no header in this data, so pass a second argument `header=None`."
   ]
  },
  {
   "cell_type": "code",
   "execution_count": 2,
   "metadata": {},
   "outputs": [],
   "source": [
    "path_to_data = \"http://archive.ics.uci.edu/ml/machine-learning-databases/00579/MI.data\""
   ]
  },
  {
   "cell_type": "markdown",
   "metadata": {},
   "source": [
    "## Task 1\n",
    "\n",
    "(1 PT)\n",
    "\n",
    "Import the data into a datafram and then print the number of records in the dataset"
   ]
  },
  {
   "cell_type": "code",
   "execution_count": 3,
   "metadata": {},
   "outputs": [
    {
     "name": "stdout",
     "output_type": "stream",
     "text": [
      "1700\n"
     ]
    }
   ],
   "source": [
    "# CODE HERE\n",
    "df = pd.read_csv(path_to_data, header = None)\n",
    "print(len(df))"
   ]
  },
  {
   "cell_type": "markdown",
   "metadata": {},
   "source": [
    "## Task 2\n",
    "\n",
    "(1 PT)\n",
    "\n",
    "Show the first three records in the dataset</span>"
   ]
  },
  {
   "cell_type": "code",
   "execution_count": 4,
   "metadata": {},
   "outputs": [
    {
     "data": {
      "text/html": [
       "<div>\n",
       "<style scoped>\n",
       "    .dataframe tbody tr th:only-of-type {\n",
       "        vertical-align: middle;\n",
       "    }\n",
       "\n",
       "    .dataframe tbody tr th {\n",
       "        vertical-align: top;\n",
       "    }\n",
       "\n",
       "    .dataframe thead th {\n",
       "        text-align: right;\n",
       "    }\n",
       "</style>\n",
       "<table border=\"1\" class=\"dataframe\">\n",
       "  <thead>\n",
       "    <tr style=\"text-align: right;\">\n",
       "      <th></th>\n",
       "      <th>0</th>\n",
       "      <th>1</th>\n",
       "      <th>2</th>\n",
       "      <th>3</th>\n",
       "      <th>4</th>\n",
       "      <th>5</th>\n",
       "      <th>6</th>\n",
       "      <th>7</th>\n",
       "      <th>8</th>\n",
       "      <th>9</th>\n",
       "      <th>...</th>\n",
       "      <th>114</th>\n",
       "      <th>115</th>\n",
       "      <th>116</th>\n",
       "      <th>117</th>\n",
       "      <th>118</th>\n",
       "      <th>119</th>\n",
       "      <th>120</th>\n",
       "      <th>121</th>\n",
       "      <th>122</th>\n",
       "      <th>123</th>\n",
       "    </tr>\n",
       "  </thead>\n",
       "  <tbody>\n",
       "    <tr>\n",
       "      <th>0</th>\n",
       "      <td>1</td>\n",
       "      <td>77</td>\n",
       "      <td>1</td>\n",
       "      <td>2</td>\n",
       "      <td>1</td>\n",
       "      <td>1</td>\n",
       "      <td>2</td>\n",
       "      <td>?</td>\n",
       "      <td>3</td>\n",
       "      <td>0</td>\n",
       "      <td>...</td>\n",
       "      <td>0</td>\n",
       "      <td>0</td>\n",
       "      <td>0</td>\n",
       "      <td>0</td>\n",
       "      <td>0</td>\n",
       "      <td>0</td>\n",
       "      <td>0</td>\n",
       "      <td>0</td>\n",
       "      <td>0</td>\n",
       "      <td>0</td>\n",
       "    </tr>\n",
       "    <tr>\n",
       "      <th>1</th>\n",
       "      <td>2</td>\n",
       "      <td>55</td>\n",
       "      <td>1</td>\n",
       "      <td>1</td>\n",
       "      <td>0</td>\n",
       "      <td>0</td>\n",
       "      <td>0</td>\n",
       "      <td>0</td>\n",
       "      <td>0</td>\n",
       "      <td>0</td>\n",
       "      <td>...</td>\n",
       "      <td>0</td>\n",
       "      <td>0</td>\n",
       "      <td>0</td>\n",
       "      <td>0</td>\n",
       "      <td>0</td>\n",
       "      <td>0</td>\n",
       "      <td>0</td>\n",
       "      <td>0</td>\n",
       "      <td>0</td>\n",
       "      <td>0</td>\n",
       "    </tr>\n",
       "    <tr>\n",
       "      <th>2</th>\n",
       "      <td>3</td>\n",
       "      <td>52</td>\n",
       "      <td>1</td>\n",
       "      <td>0</td>\n",
       "      <td>0</td>\n",
       "      <td>0</td>\n",
       "      <td>2</td>\n",
       "      <td>?</td>\n",
       "      <td>2</td>\n",
       "      <td>0</td>\n",
       "      <td>...</td>\n",
       "      <td>0</td>\n",
       "      <td>0</td>\n",
       "      <td>0</td>\n",
       "      <td>0</td>\n",
       "      <td>0</td>\n",
       "      <td>0</td>\n",
       "      <td>0</td>\n",
       "      <td>0</td>\n",
       "      <td>0</td>\n",
       "      <td>0</td>\n",
       "    </tr>\n",
       "  </tbody>\n",
       "</table>\n",
       "<p>3 rows × 124 columns</p>\n",
       "</div>"
      ],
      "text/plain": [
       "   0   1    2   3   4   5   6   7   8   9    ... 114 115 116 117 118 119 120  \\\n",
       "0    1  77    1   2   1   1   2   ?   3   0  ...   0   0   0   0   0   0   0   \n",
       "1    2  55    1   1   0   0   0   0   0   0  ...   0   0   0   0   0   0   0   \n",
       "2    3  52    1   0   0   0   2   ?   2   0  ...   0   0   0   0   0   0   0   \n",
       "\n",
       "  121 122 123  \n",
       "0   0   0   0  \n",
       "1   0   0   0  \n",
       "2   0   0   0  \n",
       "\n",
       "[3 rows x 124 columns]"
      ]
     },
     "execution_count": 4,
     "metadata": {},
     "output_type": "execute_result"
    }
   ],
   "source": [
    "# CODE HERE\n",
    "df.head(3)"
   ]
  },
  {
   "cell_type": "markdown",
   "metadata": {},
   "source": [
    "# Working with AGE\n",
    "\n",
    "The second column contains patient age. \n",
    "\n",
    "If your dataframe is named `df`, you can reference the column with: `df[1]`.\n",
    "\n",
    "Generally the field names will be strings and you can use `df['age']` to access field `age`, as an example)."
   ]
  },
  {
   "cell_type": "markdown",
   "metadata": {},
   "source": [
    "## Task 3\n",
    "\n",
    "(1 PT)\n",
    "\n",
    "One complication: missing values are filled with `?` which will cause problems (e.g., stats can't be computed easily). \n",
    "\n",
    "Count the number of records in `df[1]` containing `?`."
   ]
  },
  {
   "cell_type": "code",
   "execution_count": 5,
   "metadata": {},
   "outputs": [
    {
     "name": "stdout",
     "output_type": "stream",
     "text": [
      "8\n"
     ]
    }
   ],
   "source": [
    "# CODE HERE\n",
    "misvals = df[df[1] == '?']\n",
    "print(misvals.shape[0])"
   ]
  },
  {
   "cell_type": "markdown",
   "metadata": {},
   "source": [
    "## Task 4 \n",
    "\n",
    "(1 PT)\n",
    "\n",
    "Replace `'?'` with `np.nan` in the age column."
   ]
  },
  {
   "cell_type": "code",
   "execution_count": 6,
   "metadata": {},
   "outputs": [],
   "source": [
    "# CODE HERE\n",
    "df[1] = df[1].replace('?',np.nan)"
   ]
  },
  {
   "cell_type": "markdown",
   "metadata": {},
   "source": [
    "## Task 5\n",
    "\n",
    "(1 PT)\n",
    "\n",
    "Print the number of records containing `np.nan` in the column `df[1]` of your dataframe."
   ]
  },
  {
   "cell_type": "code",
   "execution_count": 7,
   "metadata": {},
   "outputs": [
    {
     "name": "stdout",
     "output_type": "stream",
     "text": [
      "Number of np.nan records :  8\n",
      "       0    1    2   3   4   5   6   7   8   9    ... 114 115 116 117 118 119  \\\n",
      "70      71  NaN    1   0   3   2   2   ?   2   0  ...   0   0   0   0   0   0   \n",
      "103    104  NaN    1   0   3   2   2   ?   0   0  ...   0   0   0   0   0   0   \n",
      "484    485  NaN    0   2   6   2   1   ?   2   0  ...   0   0   0   0   0   0   \n",
      "1200  1201  NaN    1   0   0   0   0   ?   0   0  ...   0   0   1   0   0   0   \n",
      "1291  1292  NaN    0   0   6   2   1   ?   2   0  ...   0   0   0   0   0   0   \n",
      "1303  1304  NaN    1   1   3   2   1   ?   2   0  ...   0   0   0   0   0   0   \n",
      "1359  1360  NaN    1   0   0   0   0   ?   0   0  ...   0   0   0   0   0   0   \n",
      "1390  1391  NaN    1   2   6   2   1   ?   2   0  ...   0   0   0   0   0   0   \n",
      "\n",
      "     120 121 122 123  \n",
      "70     1   0   0   0  \n",
      "103    0   0   0   0  \n",
      "484    0   0   0   0  \n",
      "1200   0   0   0   0  \n",
      "1291   0   0   0   0  \n",
      "1303   1   0   0   0  \n",
      "1359   0   0   0   0  \n",
      "1390   0   0   1   0  \n",
      "\n",
      "[8 rows x 124 columns]\n"
     ]
    }
   ],
   "source": [
    "# CODE HERE\n",
    "nans = df[1].isnull()\n",
    "print('Number of np.nan records : ', sum(nans))\n",
    "print(df[nans==True])"
   ]
  },
  {
   "cell_type": "markdown",
   "metadata": {},
   "source": [
    "# Another complication\n",
    "\n",
    "Another complication: the age data is saved as strings, and there are the null values. \n",
    "\n",
    "Here's an example:\n",
    "\n",
    "```python\n",
    "# inspect first element\n",
    "df[1].iloc[0]\n",
    "\n",
    "'77'\n",
    "```\n",
    "\n",
    "```python\n",
    "# check the column type\n",
    "df[1].dtype\n",
    "\n",
    "dtype('O')\n",
    "\n",
    "```\n",
    "\n",
    "To convert the column to numeric, we can use `apply()` with a lambda function.  \n",
    "\n",
    "If the type is string, we cast to numeric, e.g. `float` or `int`, otherwise it's null and we leave things alone.  \n",
    "\n",
    "`isinstance(x, str)` checks if `x` is a string, returning a bool.  \n",
    "\n",
    "Review this code for understanding:\n",
    "\n",
    "```python\n",
    "df[1] = df[1].apply(lambda x: float(x) if isinstance(x, str) else x)\n",
    "```"
   ]
  },
  {
   "cell_type": "markdown",
   "metadata": {
    "tags": []
   },
   "source": [
    "# Task 6\n",
    "\n",
    "(1 PT)\n",
    "\n",
    "Run the lambda function above, then show the data type of `age` is no longer string type."
   ]
  },
  {
   "cell_type": "code",
   "execution_count": 8,
   "metadata": {},
   "outputs": [
    {
     "data": {
      "text/plain": [
       "dtype('float64')"
      ]
     },
     "execution_count": 8,
     "metadata": {},
     "output_type": "execute_result"
    }
   ],
   "source": [
    "# CODE HERE\n",
    "df[1] = df[1].apply(lambda x: float(x) if isinstance(x, str) else x)\n",
    "df[1].dtype"
   ]
  },
  {
   "cell_type": "markdown",
   "metadata": {},
   "source": [
    "# Task 7\n",
    "\n",
    "(1 PT)\n",
    "\n",
    "Compute the median age."
   ]
  },
  {
   "cell_type": "code",
   "execution_count": 9,
   "metadata": {},
   "outputs": [
    {
     "name": "stdout",
     "output_type": "stream",
     "text": [
      "63.0\n"
     ]
    }
   ],
   "source": [
    "# CODE HERE\n",
    "med_age = df[1].median()\n",
    "print(med_age)"
   ]
  },
  {
   "cell_type": "markdown",
   "metadata": {},
   "source": [
    "# Working with GENDER\n",
    "\n",
    "The third column contains patient gender.\n",
    "\n",
    "Again, since indexing starts at zero, you'll reference `df[2]`."
   ]
  },
  {
   "cell_type": "markdown",
   "metadata": {},
   "source": [
    "# Task 8\n",
    "\n",
    "(1 PT)\n",
    "\n",
    "Print the frequency AND percentage of each gender.\n",
    "\n",
    "Hint: The function you'll use to compute frequencies will take an argument to compute normalized values, which may be converted to percentages."
   ]
  },
  {
   "cell_type": "code",
   "execution_count": 10,
   "metadata": {},
   "outputs": [
    {
     "name": "stdout",
     "output_type": "stream",
     "text": [
      "Frequencies: \n",
      "1    1065\n",
      "0     635\n",
      "Name: 2, dtype: int64\n",
      "Percetages: \n",
      "1    62.647059\n",
      "0    37.352941\n",
      "Name: 2, dtype: float64\n"
     ]
    }
   ],
   "source": [
    "# CODE HERE\n",
    "print('Frequencies: ')\n",
    "print(df[2].value_counts())\n",
    "print('Percetages: ')\n",
    "print(df[2].value_counts(normalize=True) * 100)"
   ]
  },
  {
   "cell_type": "markdown",
   "metadata": {},
   "source": [
    "# Working with Essential Hypertension (EH)\n",
    "\n",
    "Reference this column with `df[8]`. "
   ]
  },
  {
   "cell_type": "markdown",
   "metadata": {},
   "source": [
    "# Task 9\n",
    "\n",
    "(1 PT)\n",
    "\n",
    "Enter the most frequent value."
   ]
  },
  {
   "cell_type": "code",
   "execution_count": 11,
   "metadata": {},
   "outputs": [
    {
     "name": "stdout",
     "output_type": "stream",
     "text": [
      "The most frequent EH value is:  2\n"
     ]
    }
   ],
   "source": [
    "# CODE HERE\n",
    "print('The most frequent EH value is: ' ,df[8].mode()[0])\n",
    "\n"
   ]
  },
  {
   "cell_type": "markdown",
   "metadata": {},
   "source": [
    "# Working with Atrial Fibrillation (AFIB)\n",
    "\n",
    "Reference this column with `df[112]`.  \n",
    "\n",
    "AFIB is one of the complications and outcomes of myocardial infarction."
   ]
  },
  {
   "cell_type": "markdown",
   "metadata": {
    "tags": []
   },
   "source": [
    "# Task 10\n",
    "\n",
    "(1 PT)\n",
    "\n",
    "Print the number of AFIB cases. \n",
    "\n",
    "Note that 1 means there is a case."
   ]
  },
  {
   "cell_type": "code",
   "execution_count": 12,
   "metadata": {},
   "outputs": [
    {
     "name": "stdout",
     "output_type": "stream",
     "text": [
      "170\n"
     ]
    }
   ],
   "source": [
    "# CODE HERE\n",
    "AFIBs = sum(df[112])\n",
    "print(AFIBs)"
   ]
  },
  {
   "cell_type": "markdown",
   "metadata": {},
   "source": [
    "# Combining Age and AFIB"
   ]
  },
  {
   "cell_type": "markdown",
   "metadata": {},
   "source": [
    "# Task 11\n",
    "\n",
    "(1 PT)\n",
    "\n",
    "Construct a new dataframe `df2` containing only the columns for AGE and AFIB.\n",
    "\n",
    "Recall that AGE is in `df[1]` and AFIB is in `df[112]`.\n",
    "\n",
    "Print the shape of this dataframe.\n",
    "\n",
    "Hint: you can pass a list of column names to the dataframe indexer to get a dataframe with a subset of columns."
   ]
  },
  {
   "cell_type": "code",
   "execution_count": 13,
   "metadata": {},
   "outputs": [
    {
     "name": "stdout",
     "output_type": "stream",
     "text": [
      "       1    112\n",
      "0     77.0    0\n",
      "1     55.0    0\n",
      "2     52.0    0\n",
      "3     68.0    0\n",
      "4     60.0    0\n",
      "...    ...  ...\n",
      "1695  77.0    0\n",
      "1696  70.0    0\n",
      "1697  55.0    0\n",
      "1698  79.0    0\n",
      "1699  63.0    0\n",
      "\n",
      "[1700 rows x 2 columns]\n"
     ]
    }
   ],
   "source": [
    "# CODE HERE\n",
    "columns = [1,112]\n",
    "df2 = df[df.columns[columns]]\n",
    "print(df2)"
   ]
  },
  {
   "cell_type": "markdown",
   "metadata": {},
   "source": [
    "# Plotting"
   ]
  },
  {
   "cell_type": "markdown",
   "metadata": {},
   "source": [
    "We are going to plot AGE and AFIB, so renaming the columns to strings will make our visualization more readable.  \n",
    "\n",
    "You can rename columns using the dataframe `.rename()` method, which takes a dictionary as an argument of the form:\n",
    "\n",
    "```python\n",
    "{\n",
    "    current_column_name1: new_column_name1,\n",
    "    ...\n",
    "    current_column_nameN: new_column_nameN\n",
    "}\n",
    "```\n",
    "\n",
    "Rename column `1` to  `'age'` and `2` to `'AFIB'` for `df2`."
   ]
  },
  {
   "cell_type": "code",
   "execution_count": 32,
   "metadata": {},
   "outputs": [
    {
     "data": {
      "text/html": [
       "<div>\n",
       "<style scoped>\n",
       "    .dataframe tbody tr th:only-of-type {\n",
       "        vertical-align: middle;\n",
       "    }\n",
       "\n",
       "    .dataframe tbody tr th {\n",
       "        vertical-align: top;\n",
       "    }\n",
       "\n",
       "    .dataframe thead th {\n",
       "        text-align: right;\n",
       "    }\n",
       "</style>\n",
       "<table border=\"1\" class=\"dataframe\">\n",
       "  <thead>\n",
       "    <tr style=\"text-align: right;\">\n",
       "      <th></th>\n",
       "      <th>age</th>\n",
       "      <th>AFIB</th>\n",
       "    </tr>\n",
       "  </thead>\n",
       "  <tbody>\n",
       "    <tr>\n",
       "      <th>0</th>\n",
       "      <td>77.0</td>\n",
       "      <td>0</td>\n",
       "    </tr>\n",
       "    <tr>\n",
       "      <th>1</th>\n",
       "      <td>55.0</td>\n",
       "      <td>0</td>\n",
       "    </tr>\n",
       "    <tr>\n",
       "      <th>2</th>\n",
       "      <td>52.0</td>\n",
       "      <td>0</td>\n",
       "    </tr>\n",
       "    <tr>\n",
       "      <th>3</th>\n",
       "      <td>68.0</td>\n",
       "      <td>0</td>\n",
       "    </tr>\n",
       "    <tr>\n",
       "      <th>4</th>\n",
       "      <td>60.0</td>\n",
       "      <td>0</td>\n",
       "    </tr>\n",
       "  </tbody>\n",
       "</table>\n",
       "</div>"
      ],
      "text/plain": [
       "    age  AFIB\n",
       "0  77.0     0\n",
       "1  55.0     0\n",
       "2  52.0     0\n",
       "3  68.0     0\n",
       "4  60.0     0"
      ]
     },
     "execution_count": 32,
     "metadata": {},
     "output_type": "execute_result"
    }
   ],
   "source": [
    "# CODE HERE\n",
    "df2 = df2.rename({1:'age', 112: 'AFIB'}, axis=1)\n",
    "df2.head()"
   ]
  },
  {
   "cell_type": "markdown",
   "metadata": {},
   "source": [
    "# Task 12\n",
    "\n",
    "(1 PT)\n",
    "\n",
    "Dispplay a boxplot with AFIB on the x-axis and Age on the y-axis</span> \n",
    "\n",
    "Use the the `boxplot()` function from the `seaborn` package for this.\n",
    "            \n",
    "Here is the [documentation](https://seaborn.pydata.org/generated/seaborn.boxplot.html), but all you need to do is this:\n",
    "\n",
    "```python\n",
    "from seaborn import boxplot\n",
    "```"
   ]
  },
  {
   "cell_type": "code",
   "execution_count": 34,
   "metadata": {},
   "outputs": [
    {
     "data": {
      "image/png": "[encoded data removed]",
      "text/plain": [
       "<Figure size 640x480 with 1 Axes>"
      ]
     },
     "metadata": {},
     "output_type": "display_data"
    }
   ],
   "source": [
    "# CODE HERE\n",
    "from seaborn import boxplot\n",
    "import matplotlib.pyplot as plt\n",
    "boxplot(data=df2, x=\"AFIB\", y=\"age\")\n",
    "plt.show()\n"
   ]
  },
  {
   "attachments": {},
   "cell_type": "markdown",
   "metadata": {},
   "source": [
    "Ungraded question: What do you notice about the difference in age distributions between AFIB and non-AFIB groups?  \n",
    "\n",
    "The median age of those with AFIB is higher than those without it in the study group. Also, those with AFIB seem to have a tighter spread in age than those without. Cases of AFIB seem to be noticed at a much higher starting age."
   ]
  }
 ],
 "metadata": {
  "kernelspec": {
   "display_name": "base",
   "language": "python",
   "name": "python3"
  },
  "language_info": {
   "codemirror_mode": {
    "name": "ipython",
    "version": 3
   },
   "file_extension": ".py",
   "mimetype": "text/x-python",
   "name": "python",
   "nbconvert_exporter": "python",
   "pygments_lexer": "ipython3",
   "version": "3.9.13"
  },
  "vscode": {
   "interpreter": {
    "hash": "0d40f48c359f7fb09d10b37074c5a8a7b9ba13f6f9f4cda940ac7f06e5330cc1"
   }
  },
  "widgets": {
   "application/vnd.jupyter.widget-state+json": {
    "state": {},
    "version_major": 2,
    "version_minor": 0
   }
  }
 },
 "nbformat": 4,
 "nbformat_minor": 4
}
