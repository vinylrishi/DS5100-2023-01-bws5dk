{
 "cells": [
  {
   "cell_type": "code",
   "execution_count": 13,
   "metadata": {},
   "outputs": [],
   "source": [
    "#4.1\n",
    "def correct_string_length(stringy, length):\n",
    "    '''\n",
    "    PURPOSE: Given a string, check if its length is equal to \"length\"\n",
    "    \n",
    "    INPUTS\n",
    "    stringy   string\n",
    "    length  int\n",
    "    \n",
    "    OUTPUT\n",
    "    bools  True or false boolean\n",
    "    '''\n",
    "    \n",
    "    bools = len(stringy) == length\n",
    "    \n",
    "    return bools"
   ]
  },
  {
   "cell_type": "code",
   "execution_count": 7,
   "metadata": {},
   "outputs": [
    {
     "data": {
      "text/plain": [
       "True"
      ]
     },
     "execution_count": 7,
     "metadata": {},
     "output_type": "execute_result"
    }
   ],
   "source": [
    "correct_string_length(\"is this text the right length?\", 30)"
   ]
  },
  {
   "cell_type": "code",
   "execution_count": 11,
   "metadata": {},
   "outputs": [],
   "source": [
    "#4.2\n",
    "def square_args(*args):\n",
    "    \n",
    "    print(\"arguments       :\", args)\n",
    "    print(\"input arg type  :\",  type(args))\n",
    "    print(\"input arg length:\", len(args))\n",
    "    print(\"-----------------------------\")\n",
    "    \n",
    "    for a in args:\n",
    "        print(a**2)    "
   ]
  },
  {
   "cell_type": "code",
   "execution_count": 12,
   "metadata": {},
   "outputs": [
    {
     "name": "stdout",
     "output_type": "stream",
     "text": [
      "arguments       : (2, 4, 6)\n",
      "input arg type  : <class 'tuple'>\n",
      "input arg length: 3\n",
      "-----------------------------\n",
      "4\n",
      "16\n",
      "36\n"
     ]
    }
   ],
   "source": [
    "square_args(2,4,6)"
   ]
  },
  {
   "cell_type": "code",
   "execution_count": 21,
   "metadata": {},
   "outputs": [],
   "source": [
    "def word_shortener(text, min_length = 4):\n",
    "    if not isinstance(text,str):\n",
    "        print(text, \" is not a string type!\")\n",
    "        return false\n",
    "    elif len(text)< min_length:\n",
    "        print(\"This string is too short!\")\n",
    "        return False\n",
    "    else:\n",
    "        first = text[0].upper()\n",
    "        last = text[-1].upper()\n",
    "        mid_count = len(text[1:-1])\n",
    "        answer = first + str(mid_count) + last \n",
    "        return answer"
   ]
  },
  {
   "cell_type": "code",
   "execution_count": 22,
   "metadata": {},
   "outputs": [
    {
     "data": {
      "text/plain": [
       "'B6G'"
      ]
     },
     "execution_count": 22,
     "metadata": {},
     "output_type": "execute_result"
    }
   ],
   "source": [
    "word_shortener(\"bringing\")"
   ]
  },
  {
   "cell_type": "code",
   "execution_count": 18,
   "metadata": {},
   "outputs": [],
   "source": [
    "#4.4\n",
    "def diff_5_negative(val):\n",
    "    minus5 = val-5\n",
    "    if(minus5 >= 0):\n",
    "        return 1\n",
    "    return 0"
   ]
  },
  {
   "cell_type": "code",
   "execution_count": 19,
   "metadata": {},
   "outputs": [
    {
     "data": {
      "text/plain": [
       "1"
      ]
     },
     "execution_count": 19,
     "metadata": {},
     "output_type": "execute_result"
    }
   ],
   "source": [
    "diff_5_negative(7.3)"
   ]
  },
  {
   "cell_type": "code",
   "execution_count": 20,
   "metadata": {},
   "outputs": [
    {
     "data": {
      "text/plain": [
       "0"
      ]
     },
     "execution_count": 20,
     "metadata": {},
     "output_type": "execute_result"
    }
   ],
   "source": [
    "diff_5_negative(2)"
   ]
  },
  {
   "cell_type": "code",
   "execution_count": 24,
   "metadata": {},
   "outputs": [],
   "source": [
    "#4.5\n",
    "def fakevar():\n",
    "    mywords = \"lmao u thought this would work\"\n",
    "    print(\"hello\")\n",
    "    return None"
   ]
  },
  {
   "cell_type": "code",
   "execution_count": 25,
   "metadata": {},
   "outputs": [
    {
     "name": "stdout",
     "output_type": "stream",
     "text": [
      "hello\n"
     ]
    }
   ],
   "source": [
    "fakevar()"
   ]
  },
  {
   "cell_type": "code",
   "execution_count": 27,
   "metadata": {},
   "outputs": [
    {
     "ename": "NameError",
     "evalue": "name 'mywords' is not defined",
     "output_type": "error",
     "traceback": [
      "\u001b[0;31m---------------------------------------------------------------------------\u001b[0m",
      "\u001b[0;31mNameError\u001b[0m                                 Traceback (most recent call last)",
      "\u001b[0;32m<ipython-input-27-7368918556d4>\u001b[0m in \u001b[0;36m<module>\u001b[0;34m\u001b[0m\n\u001b[0;32m----> 1\u001b[0;31m \u001b[0mprint\u001b[0m\u001b[0;34m(\u001b[0m\u001b[0mmywords\u001b[0m\u001b[0;34m)\u001b[0m\u001b[0;34m\u001b[0m\u001b[0;34m\u001b[0m\u001b[0m\n\u001b[0m",
      "\u001b[0;31mNameError\u001b[0m: name 'mywords' is not defined"
     ]
    }
   ],
   "source": [
    "print(mywords)"
   ]
  },
  {
   "cell_type": "code",
   "execution_count": null,
   "metadata": {},
   "outputs": [],
   "source": [
    "#4.6\n",
    "# x1 has not been defined\n",
    "# prints 5\n",
    "# prints 5\n",
    "# error on fist line\n",
    "# 5,9,5,9"
   ]
  },
  {
   "cell_type": "code",
   "execution_count": null,
   "metadata": {},
   "outputs": [],
   "source": [
    "#4.9\n",
    "c2f = lambda c: 1.8*c + 32\n",
    "f2c = lambda f: (f-32)/1.8\n",
    "# use a key mapping. not enough time"
   ]
  }
 ],
 "metadata": {
  "kernelspec": {
   "display_name": "Python 3",
   "language": "python",
   "name": "python3"
  },
  "language_info": {
   "codemirror_mode": {
    "name": "ipython",
    "version": 3
   },
   "file_extension": ".py",
   "mimetype": "text/x-python",
   "name": "python",
   "nbconvert_exporter": "python",
   "pygments_lexer": "ipython3",
   "version": "3.8.8"
  }
 },
 "nbformat": 4,
 "nbformat_minor": 4
}
