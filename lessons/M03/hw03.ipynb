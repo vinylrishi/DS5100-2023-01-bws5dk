{
 "cells": [
  {
   "attachments": {},
   "cell_type": "markdown",
   "id": "d31b93a7-f221-4338-b044-734458a05492",
   "metadata": {
    "tags": []
   },
   "source": [
    "# Metadata\n",
    "\n",
    "```{yaml}\n",
    "Course:   DS 5100\n",
    "Term:     Spring 2023 Online\n",
    "Module:   M03 Homework\n",
    "Author:   R.C. Alvarado\n",
    "Date:     08 February 2023\n",
    "```"
   ]
  },
  {
   "attachments": {},
   "cell_type": "markdown",
   "id": "91c2bea0-57b5-4e2d-b7c3-bae818c949cc",
   "metadata": {},
   "source": [
    "# Student Info\n",
    "\n",
    "* Name: Rishi Sharma\n",
    "* Net ID: bws5dk\n",
    "* URL of this file in GitHub: https://github.com/vinylrishi/DS5100-2023-01-bws5dk/tree/main/lessons/M03/hw03.ipynb"
   ]
  },
  {
   "cell_type": "markdown",
   "id": "cf3260a5-5781-4529-ba47-8b22f3ab9944",
   "metadata": {
    "tags": []
   },
   "source": [
    "# Instructions\n",
    "\n",
    "In your **private course repo on Rivanna**, write a Jupyter notebook running Python that performs the numbered tasks below. \n",
    "\n",
    "For each task, create a code cell to perform the task.\n",
    "\n",
    "Save your notebook in the `M03` directory as `hw03.ipynb`. \n",
    "\n",
    "Add and commit these files to your repo. \n",
    "\n",
    "Then push your commits to your repo on GitHib.\n",
    "\n",
    "Be sure to fill out the **Student Info** block above.\n",
    "\n",
    "To submit your homework, save the notebook as a PDF and upload it to GradeScope, following the instructions."
   ]
  },
  {
   "cell_type": "markdown",
   "id": "299969ff-8b91-4390-8168-5b5b7b21991b",
   "metadata": {},
   "source": [
    "# Task 1\n",
    "\n",
    "(6 points)\n",
    "\n",
    "Using the **for** loop and **if** statement control structures, \n",
    "write a script that generates the integers from $1$ to $100$ and does the following things:\n",
    "\n",
    "* If $3$ is a factor of the number, print `Wahoo`.\n",
    "* If $5$ is a factor of the number, print `wah!`.\n",
    "* If the number meets none of the above conditions, print nothing, not even a line break.\n",
    "* If the number meets both of the conditions, print the strings on the same line with no space between them.\n",
    "* Make sure that the line printed for each iteration in which a condition is met ends with a line break.\n",
    "* When the loop is finished, print the number of times either conidtion was met, i.e. the number of lines that were printed.\n",
    "\n",
    "Hint: You may not need to use **elif** and **else** to accomplish these tasks."
   ]
  },
  {
   "cell_type": "code",
   "execution_count": 10,
   "id": "73e6b63d-38ca-488a-9a2a-009c150d8dbd",
   "metadata": {},
   "outputs": [
    {
     "name": "stdout",
     "output_type": "stream",
     "text": [
      "Wahoo\n",
      "wah!\n",
      "Wahoo\n",
      "Wahoo\n",
      "wah!\n",
      "Wahoo\n",
      "Wahoowah!\n",
      "Wahoo\n",
      "wah!\n",
      "Wahoo\n",
      "Wahoo\n",
      "wah!\n",
      "Wahoo\n",
      "Wahoowah!\n",
      "Wahoo\n",
      "wah!\n",
      "Wahoo\n",
      "Wahoo\n",
      "wah!\n",
      "Wahoo\n",
      "Wahoowah!\n",
      "Wahoo\n",
      "wah!\n",
      "Wahoo\n",
      "Wahoo\n",
      "wah!\n",
      "Wahoo\n",
      "Wahoowah!\n",
      "Wahoo\n",
      "wah!\n",
      "Wahoo\n",
      "Wahoo\n",
      "wah!\n",
      "Wahoo\n",
      "Wahoowah!\n",
      "Wahoo\n",
      "wah!\n",
      "Wahoo\n",
      "Wahoo\n",
      "wah!\n",
      "Wahoo\n",
      "Wahoowah!\n",
      "Wahoo\n",
      "wah!\n",
      "Wahoo\n",
      "Wahoo\n",
      "wah!\n",
      "Number of times either condition was met:  47\n"
     ]
    }
   ],
   "source": [
    "intlist = list(range(1,101))\n",
    "count = 0\n",
    "for test in intlist:\n",
    "    if(test%3 == 0 and test%5 == 0):\n",
    "        print(\"Wahoowah!\")\n",
    "        count+=1\n",
    "        continue\n",
    "    if(test%3 == 0):\n",
    "        print(\"Wahoo\")\n",
    "        count+=1\n",
    "    if(test%5 == 0):\n",
    "        print(\"wah!\")\n",
    "        count+=1\n",
    "print(\"Number of times either condition was met: \",count)"
   ]
  },
  {
   "cell_type": "markdown",
   "id": "eefd829e-9d2d-44b1-9268-4aa605c4e40d",
   "metadata": {},
   "source": [
    "# Task 2\n",
    "\n",
    "(3 points)\n",
    "\n",
    "Rewrite the `for` loop as a `while` loop. \n",
    "\n",
    "This time, only print lines where both conditions are met. \n",
    "\n",
    "Include a final line which prints the number of times both conditions are met."
   ]
  },
  {
   "cell_type": "code",
   "execution_count": 13,
   "id": "704989f4-0d1b-457e-9179-6c080aa83f9d",
   "metadata": {},
   "outputs": [
    {
     "name": "stdout",
     "output_type": "stream",
     "text": [
      "Wahoowah!\n",
      "Wahoowah!\n",
      "Wahoowah!\n",
      "Wahoowah!\n",
      "Wahoowah!\n",
      "Wahoowah!\n",
      "Number of times both conditions were met:  6\n"
     ]
    }
   ],
   "source": [
    "pointer=1\n",
    "count2=0\n",
    "while(pointer <= 100):\n",
    "    if(pointer%3 == 0 and pointer%5 == 0):\n",
    "        print(\"Wahoowah!\")\n",
    "        count2+=1\n",
    "        pointer+=1\n",
    "        continue\n",
    "    pointer+=1\n",
    "print(\"Number of times both conditions were met: \",count2)"
   ]
  },
  {
   "cell_type": "markdown",
   "id": "1004eae1-4cdf-46a2-9473-efe1528dfeef",
   "metadata": {},
   "source": [
    "# Task 3\n",
    "\n",
    "(3 points)\n",
    "\n",
    "Write a list comprehension that iterates through the integers from $1$ to $100$ and returns a list containing the sum of the boolean values of the two conditions described in Task 1."
   ]
  },
  {
   "cell_type": "code",
   "execution_count": 14,
   "id": "af38602c-1e6e-4de0-906a-5c1e5d780b49",
   "metadata": {},
   "outputs": [
    {
     "data": {
      "text/plain": [
       "[33, 20]"
      ]
     },
     "execution_count": 14,
     "metadata": {},
     "output_type": "execute_result"
    }
   ],
   "source": [
    "boolysum = [sum([i % 3 == 0 for i in intlist]), sum([j % 5 == 0 for j in intlist])]\n",
    "boolysum"
   ]
  }
 ],
 "metadata": {
  "kernelspec": {
   "display_name": "base",
   "language": "python",
   "name": "python3"
  },
  "language_info": {
   "codemirror_mode": {
    "name": "ipython",
    "version": 3
   },
   "file_extension": ".py",
   "mimetype": "text/x-python",
   "name": "python",
   "nbconvert_exporter": "python",
   "pygments_lexer": "ipython3",
   "version": "3.9.13"
  },
  "vscode": {
   "interpreter": {
    "hash": "0d40f48c359f7fb09d10b37074c5a8a7b9ba13f6f9f4cda940ac7f06e5330cc1"
   }
  },
  "widgets": {
   "application/vnd.jupyter.widget-state+json": {
    "state": {},
    "version_major": 2,
    "version_minor": 0
   }
  }
 },
 "nbformat": 4,
 "nbformat_minor": 5
}
