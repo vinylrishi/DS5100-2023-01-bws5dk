{
 "cells": [
  {
   "cell_type": "code",
   "execution_count": 4,
   "metadata": {},
   "outputs": [
    {
     "name": "stdout",
     "output_type": "stream",
     "text": [
      "bucket 4\n"
     ]
    }
   ],
   "source": [
    "# 3.1\n",
    "val = 5\n",
    "\n",
    "if -10 < val < -5:\n",
    "    print('bucket 1')\n",
    "elif -5 <= val < -2:\n",
    "    print('bucket 2')\n",
    "elif val == -2:\n",
    "    print('bucket 3')\n",
    "else:\n",
    "    print('bucket 4')\n"
   ]
  },
  {
   "cell_type": "code",
   "execution_count": 7,
   "metadata": {},
   "outputs": [
    {
     "name": "stdout",
     "output_type": "stream",
     "text": [
      "-2\n",
      "max_val\n",
      "0\n",
      "5\n",
      "6\n"
     ]
    }
   ],
   "source": [
    "# 3.2\n",
    "xx = [-2,8,0,5,6]\n",
    "max_val = max(xx)\n",
    "for i in xx:\n",
    "    if i<max_val:\n",
    "        print(i)\n",
    "    else:\n",
    "        print(\"max_val\")"
   ]
  },
  {
   "cell_type": "code",
   "execution_count": 9,
   "metadata": {},
   "outputs": [
    {
     "name": "stdout",
     "output_type": "stream",
     "text": [
      "0\n",
      "10\n",
      "20\n",
      "30\n",
      "40\n",
      "50\n",
      "60\n",
      "70\n",
      "80\n",
      "90\n"
     ]
    }
   ],
   "source": [
    "# 3.3\n",
    "it = 0\n",
    "max_iter = 100\n",
    "\n",
    "while(it < max_iter):\n",
    "    if it % 10 == 0:\n",
    "        print(it)\n",
    "    it+=1"
   ]
  },
  {
   "cell_type": "code",
   "execution_count": 11,
   "metadata": {},
   "outputs": [
    {
     "name": "stdout",
     "output_type": "stream",
     "text": [
      "maine\n",
      "ohio\n",
      "cali\n",
      "penn\n"
     ]
    }
   ],
   "source": [
    "# 3.4\n",
    "mylist = ['Maine','Ohio','Cali','Penn']\n",
    "for i in mylist:\n",
    "    print(i.lower())"
   ]
  },
  {
   "cell_type": "code",
   "execution_count": 12,
   "metadata": {},
   "outputs": [
    {
     "name": "stdout",
     "output_type": "stream",
     "text": [
      "Maine\n",
      "Ohio\n",
      "Cali\n",
      "Penn\n"
     ]
    }
   ],
   "source": [
    "# 3.5\n",
    "myit = iter(mylist)\n",
    "print(next(myit))\n",
    "print(next(myit))\n",
    "print(next(myit))\n",
    "print(next(myit))"
   ]
  },
  {
   "cell_type": "code",
   "execution_count": 17,
   "metadata": {},
   "outputs": [
    {
     "name": "stdout",
     "output_type": "stream",
     "text": [
      "Cleveland 44139\n",
      "Chicago 60654\n"
     ]
    }
   ],
   "source": [
    "# 3.6\n",
    "city = {'Cleveland':44139, 'Chicago':60654}\n",
    "for cit, zi in city.items():\n",
    "    print(cit, zi)\n"
   ]
  },
  {
   "cell_type": "code",
   "execution_count": 19,
   "metadata": {},
   "outputs": [
    {
     "name": "stdout",
     "output_type": "stream",
     "text": [
      "Cleveland 44139\n",
      "Chicago 60654\n"
     ]
    }
   ],
   "source": [
    "# 3.7\n",
    "for cit in city.keys():\n",
    "    print(cit, city[cit])"
   ]
  },
  {
   "cell_type": "code",
   "execution_count": 21,
   "metadata": {},
   "outputs": [
    {
     "data": {
      "text/plain": [
       "[1, 8, 27, 64, 125, 216, 343, 512, 729]"
      ]
     },
     "execution_count": 21,
     "metadata": {},
     "output_type": "execute_result"
    }
   ],
   "source": [
    "# 3.8\n",
    "list1 = list(range(1,10))\n",
    "list2 = []\n",
    "\n",
    "for i in list1:\n",
    "    list2.append(i**3)\n",
    "list2"
   ]
  },
  {
   "cell_type": "code",
   "execution_count": 23,
   "metadata": {},
   "outputs": [
    {
     "data": {
      "text/plain": [
       "['2', '4', '6']"
      ]
     },
     "execution_count": 23,
     "metadata": {},
     "output_type": "execute_result"
    }
   ],
   "source": [
    "#3.9\n",
    "strlist = ['2','create','4','bracket','roar','number','6']\n",
    "nums = []\n",
    "for i in strlist:\n",
    "    if i.isdigit():\n",
    "        nums.append(i)\n",
    "nums"
   ]
  },
  {
   "cell_type": "code",
   "execution_count": null,
   "metadata": {},
   "outputs": [],
   "source": [
    "# 3.10\n",
    "# out of time"
   ]
  }
 ],
 "metadata": {
  "kernelspec": {
   "display_name": "Python 3",
   "language": "python",
   "name": "python3"
  },
  "language_info": {
   "codemirror_mode": {
    "name": "ipython",
    "version": 3
   },
   "file_extension": ".py",
   "mimetype": "text/x-python",
   "name": "python",
   "nbconvert_exporter": "python",
   "pygments_lexer": "ipython3",
   "version": "3.8.8"
  }
 },
 "nbformat": 4,
 "nbformat_minor": 4
}
