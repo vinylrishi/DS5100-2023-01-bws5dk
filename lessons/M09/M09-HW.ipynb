{
 "cells": [
  {
   "cell_type": "markdown",
   "id": "bbea800c-241d-42b4-a744-ecaffe13959e",
   "metadata": {},
   "source": [
    "# Metadata\n",
    "\n",
    "```yaml\n",
    "Course:  DS 5100\n",
    "Module:  09 Python Packages\n",
    "Topic:   HW Package Booklover\n",
    "Author:  R.C. Alvarado (adapted)\n",
    "Date:    10 October 2022 (revised)\n",
    "```"
   ]
  },
  {
   "attachments": {},
   "cell_type": "markdown",
   "id": "36f46fdd-2405-4dc8-9ea1-33f395e56cc0",
   "metadata": {},
   "source": [
    "# Student Info\n",
    "\n",
    "* Name:  Rishi Sharma\n",
    "* Net UD: bws5dk@virginia.edu\n",
    "* URL of this file in GitHub: https://github.com/vinylrishi/DS5100-2023-01-bws5dk/tree/main/lessons/M09/M09-HW.ipynb"
   ]
  },
  {
   "cell_type": "markdown",
   "id": "375875a8-1503-46eb-8ea1-7e5bf39b5c41",
   "metadata": {},
   "source": [
    "# Instructions\n",
    "\n",
    "In your **private course repo on Rivanna**, use this Jupyter notebook and the data file described to write code that performs the tasks below. \n",
    "\n",
    "Save your notebook in the `M09` directory.\n",
    "\n",
    "Remember to add and commit these files to your repo. \n",
    "\n",
    "Then push your commits to your repo on GitHib.\n",
    "\n",
    "Be sure to fill out the **Student Info** block above.\n",
    "\n",
    "To submit your homework, save your results as a PDF and upload it to GradeScope. More information about how to create the PDF for this assignment are included at the end of this document.\n",
    "\n",
    "**TOTAL POINTS: 8**"
   ]
  },
  {
   "cell_type": "markdown",
   "id": "1baf08dc-35fe-44f1-bc26-7e1130ee993e",
   "metadata": {},
   "source": [
    "# Overview\n",
    "\n",
    "Follow the following recipe we used in class to package the code you wrote for `HW08` -- `booklover.py` and `booklover_test.py`.\n",
    "\n",
    "* Create a new git repo for your package.\n",
    "* Create and edit the required files and directories for your package and move the booklover modules there.\n",
    "* Stage, commit, and push all the files you've created.\n",
    "* Install your package with pip.\n",
    "* Outside of your package dir, write a script to test your method.\n",
    "\n",
    "Put this notebook in your repo. This will allow you to execute bash commands and capture the outpunt directly in the notebook.\n",
    "\n",
    "**TOTAL: 8 POINTS**"
   ]
  },
  {
   "cell_type": "markdown",
   "id": "6e39ba79-49ee-41e8-9e49-23d9d6bac2e0",
   "metadata": {
    "tags": []
   },
   "source": [
    "# Tasks"
   ]
  },
  {
   "cell_type": "markdown",
   "id": "fb11de14",
   "metadata": {},
   "source": [
    "## Task 1\n",
    "\n",
    "(5 points)\n",
    "\n",
    "Show the directory structure of your repo by running this command from the root of your repo:"
   ]
  },
  {
   "attachments": {},
   "cell_type": "markdown",
   "id": "ad78a9c6",
   "metadata": {},
   "source": [
    "```bash\n",
    "bash-4.2$pwd\n",
    "/home/bws5dk/Documents/MSDS/DS5100/DS5100-2023-01-bws5dk/lessons/M09/DS5100-HW09\n",
    "bash-4.2$ls -lr\n",
    "total 28\n",
    "-rw-r--r-- 1 bws5dk users  280 Mar 30 17:02 setup.py\n",
    "-rw-r--r-- 1 bws5dk users   29 Mar 30 17:02 README.md\n",
    "-rw-r--r-- 1 bws5dk users 5861 Mar 30 17:02 M09-HW.ipynb\n",
    "-rw-r--r-- 1 bws5dk users 1067 Mar 30 17:02 LICENSE\n",
    "drwxr-sr-x 2 bws5dk users 1536 Mar 30 17:02 HW09\n",
    "```"
   ]
  },
  {
   "cell_type": "markdown",
   "id": "6b6f288b-05aa-441b-8c73-84b50b3b6844",
   "metadata": {},
   "source": [
    "## Task 2\n",
    "\n",
    "(1 point)\n",
    "\n",
    "Put the URL of your GitHub repo here. Just paste it into a Markdown cell."
   ]
  },
  {
   "attachments": {},
   "cell_type": "markdown",
   "id": "4d09d889-6104-4f20-b31c-2d8a72b17693",
   "metadata": {},
   "source": [
    "URL: https://github.com/vinylrishi/DS5100-HW09"
   ]
  },
  {
   "cell_type": "markdown",
   "id": "f989dcd1-b1d2-4eb9-8ef6-8ca2d8495260",
   "metadata": {
    "lines_to_next_cell": 0
   },
   "source": [
    "## Task 3\n",
    "\n",
    "(1 point)\n",
    "\n",
    "Show the results of installing your package.\n",
    "\n",
    "```bash\n",
    "!pip install -e .\n",
    "```"
   ]
  },
  {
   "attachments": {},
   "cell_type": "markdown",
   "id": "63eb3bf3",
   "metadata": {},
   "source": [
    "In Bash (Rivanna)\n",
    "```bash\n",
    "bash-4.2$pip install -e .\n",
    "Obtaining file:///sfs/qumulo/qhome/bws5dk/Documents/MSDS/DS5100/DS5100-2023-01-bws5dk/lessons/M09/DS5100-HW09\n",
    "Installing collected packages: HW09\n",
    "  Running setup.py develop for HW09 \n",
    "Successfully installed HW09\n",
    "```"
   ]
  },
  {
   "attachments": {},
   "cell_type": "markdown",
   "id": "48c13c03",
   "metadata": {},
   "source": [
    "In Windows (Locally)\n",
    "\n",
    "```bash\n",
    "(base) PS C:\\Users\\fishy\\OneDrive\\Desktop\\Classes\\Grad_Semester_1\\DS_5100\\Module_9\\DS5100-HW09> pip install -e .\n",
    "Obtaining file:///C:/Users/fishy/OneDrive/Desktop/Classes/Grad_Semester_1/DS_5100/Module_9/DS5100-HW09\n",
    "  Preparing metadata (setup.py) ... done\n",
    "Installing collected packages: HW09\n",
    "  Running setup.py develop for HW09\n",
    "Successfully installed HW09-0.1\n",
    "```"
   ]
  },
  {
   "cell_type": "markdown",
   "id": "5b1a642e-74f0-43ff-97a3-9ddc7553978e",
   "metadata": {},
   "source": [
    "## Task 4\n",
    "\n",
    "(1 point)\n",
    "\n",
    "Create a file outside your repo to test your package by running it.\n",
    "\n",
    "To do this, import the package into your file and create a BookLover object.\n",
    "\n",
    "Then add a book and then print number books read.\n",
    "\n",
    "Then run the file. \n",
    "\n",
    "Show the output of running the file below, using a command like the following:\n",
    "\n",
    "```bash\n",
    "!python ../book_lover_demo.py\n",
    "```"
   ]
  },
  {
   "attachments": {},
   "cell_type": "markdown",
   "id": "66bf4555",
   "metadata": {},
   "source": [
    "In Bash (Rivanna)\n",
    "```bash\n",
    "bash-4.2$ python /home/bws5dk/Documents/MSDS/DS5100/DS5100-2023-01-bws5dk/lessons/M09/booklover_demo.py\n",
    "1\n",
    "bash-4.2$\n",
    "```"
   ]
  },
  {
   "attachments": {},
   "cell_type": "markdown",
   "id": "85f2805d",
   "metadata": {},
   "source": [
    "In Windows (Locally)\n",
    "```bash\n",
    "(base) PS C:\\Users\\fishy\\OneDrive\\Desktop\\Classes\\Grad_Semester_1\\DS_5100\\Module_9> python booklover_demo.py\n",
    "1\n",
    "```"
   ]
  }
 ],
 "metadata": {
  "jupytext": {
   "cell_metadata_filter": "-all",
   "main_language": "bash",
   "notebook_metadata_filter": "-all"
  },
  "kernelspec": {
   "display_name": "Python 3.8.3 ('base')",
   "language": "python",
   "name": "python3"
  },
  "language_info": {
   "codemirror_mode": {
    "name": "ipython",
    "version": 3
   },
   "file_extension": ".py",
   "mimetype": "text/x-python",
   "name": "python",
   "nbconvert_exporter": "python",
   "pygments_lexer": "ipython3",
   "version": "3.9.13"
  },
  "vscode": {
   "interpreter": {
    "hash": "c3b963de08c47c3b6758389c5e0978ad73698a111eb508d4e16b558edb8f4cbf"
   }
  },
  "widgets": {
   "application/vnd.jupyter.widget-state+json": {
    "state": {},
    "version_major": 2,
    "version_minor": 0
   }
  }
 },
 "nbformat": 4,
 "nbformat_minor": 5
}
