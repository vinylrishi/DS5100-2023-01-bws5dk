{
 "cells": [
  {
   "cell_type": "code",
   "execution_count": 9,
   "metadata": {},
   "outputs": [
    {
     "name": "stdout",
     "output_type": "stream",
     "text": [
      "0.016097307205200195\n"
     ]
    }
   ],
   "source": [
    "#5.1\n",
    "from time import time\n",
    "t0 = time()\n",
    "list1 = []\n",
    "for i in range(1,100001):\n",
    "    if i%2==1:\n",
    "        i= i*(-1)\n",
    "    list1.append(i)\n",
    "print(time() - t0)"
   ]
  },
  {
   "cell_type": "code",
   "execution_count": 10,
   "metadata": {},
   "outputs": [
    {
     "name": "stdout",
     "output_type": "stream",
     "text": [
      "0.009730339050292969\n"
     ]
    }
   ],
   "source": [
    "#5.2\n",
    "t1 = time()\n",
    "list2 = [i*-1 if i%2==1 else i for i in range(1,100001)]\n",
    "print(time() - t1)"
   ]
  },
  {
   "cell_type": "code",
   "execution_count": 13,
   "metadata": {},
   "outputs": [
    {
     "name": "stdout",
     "output_type": "stream",
     "text": [
      "4, 4, 5, 6, 6, 6, 4, 6, 1, 1\n"
     ]
    }
   ],
   "source": [
    "#5.3\n",
    "import numpy as np\n",
    "rands = np.random.randint(1,7,10)\n",
    "print(', '.join(rands.astype(str)))"
   ]
  },
  {
   "cell_type": "code",
   "execution_count": 17,
   "metadata": {},
   "outputs": [
    {
     "name": "stdout",
     "output_type": "stream",
     "text": [
      "<class 'int'>\n",
      "<class 'numpy.ndarray'>\n"
     ]
    }
   ],
   "source": [
    "#5.4\n",
    "rand1 = np.random.randint(22)\n",
    "print(type(rand1))\n",
    "rand5 = np.random.randint(1,22,5)\n",
    "print(type(rand2))"
   ]
  },
  {
   "cell_type": "code",
   "execution_count": 18,
   "metadata": {},
   "outputs": [
    {
     "data": {
      "text/plain": [
       "(array([1., 1., 1., 0., 0., 1., 0., 0., 0., 1.]),\n",
       " array([ 2. ,  3.6,  5.2,  6.8,  8.4, 10. , 11.6, 13.2, 14.8, 16.4, 18. ]),\n",
       " <BarContainer object of 10 artists>)"
      ]
     },
     "execution_count": 18,
     "metadata": {},
     "output_type": "execute_result"
    },
    {
     "data": {
      "image/png": "[encoded data removed]",
      "text/plain": [
       "<Figure size 432x288 with 1 Axes>"
      ]
     },
     "metadata": {
      "needs_background": "light"
     },
     "output_type": "display_data"
    }
   ],
   "source": [
    "#5.5\n",
    "from matplotlib.pyplot import hist\n",
    "hist(rand5)"
   ]
  },
  {
   "cell_type": "code",
   "execution_count": 20,
   "metadata": {},
   "outputs": [
    {
     "name": "stdout",
     "output_type": "stream",
     "text": [
      "[[ 0.75505531 -0.1053331   1.59671868]\n",
      " [ 0.07167154  0.05662859  0.74618825]]\n"
     ]
    }
   ],
   "source": [
    "#5.6\n",
    "matrix23 = np.random.randn(2, 3)\n",
    "print(matrix23)"
   ]
  },
  {
   "cell_type": "code",
   "execution_count": 21,
   "metadata": {},
   "outputs": [
    {
     "data": {
      "text/plain": [
       "array([[ 1.51011062, -0.2106662 ,  3.19343736],\n",
       "       [ 0.14334307,  0.11325718,  1.49237651]])"
      ]
     },
     "execution_count": 21,
     "metadata": {},
     "output_type": "execute_result"
    }
   ],
   "source": [
    "#5.7\n",
    "matrix23*2"
   ]
  },
  {
   "cell_type": "code",
   "execution_count": 22,
   "metadata": {},
   "outputs": [
    {
     "data": {
      "text/plain": [
       "array([[ 1.51011062, -0.2106662 ,  3.19343736],\n",
       "       [ 0.14334307,  0.11325718,  1.49237651]])"
      ]
     },
     "execution_count": 22,
     "metadata": {},
     "output_type": "execute_result"
    }
   ],
   "source": [
    "matrix23 + matrix23"
   ]
  },
  {
   "cell_type": "code",
   "execution_count": 23,
   "metadata": {},
   "outputs": [
    {
     "data": {
      "text/plain": [
       "array([[ 1.32440629, -9.49369176,  0.6262844 ],\n",
       "       [13.95254041, 17.65892407,  1.34014438]])"
      ]
     },
     "execution_count": 23,
     "metadata": {},
     "output_type": "execute_result"
    }
   ],
   "source": [
    "1/matrix23"
   ]
  },
  {
   "cell_type": "code",
   "execution_count": 32,
   "metadata": {},
   "outputs": [
    {
     "name": "stdout",
     "output_type": "stream",
     "text": [
      "[[0. 0. 0. 0.]\n",
      " [0. 0. 0. 0.]]\n"
     ]
    }
   ],
   "source": [
    "#5.10\n",
    "z = np.zeros((2,4))\n",
    "print(z)"
   ]
  },
  {
   "cell_type": "code",
   "execution_count": 33,
   "metadata": {},
   "outputs": [
    {
     "name": "stdout",
     "output_type": "stream",
     "text": [
      "[[1. 1. 1. 1.]\n",
      " [1. 1. 1. 1.]]\n"
     ]
    }
   ],
   "source": [
    "o = np.ones((2,4))\n",
    "print(o)"
   ]
  },
  {
   "cell_type": "code",
   "execution_count": 36,
   "metadata": {},
   "outputs": [
    {
     "data": {
      "text/plain": [
       "array([[1., 0., 0., 0.],\n",
       "       [0., 1., 0., 0.],\n",
       "       [0., 0., 1., 0.],\n",
       "       [0., 0., 0., 1.]])"
      ]
     },
     "execution_count": 36,
     "metadata": {},
     "output_type": "execute_result"
    }
   ],
   "source": [
    "#5.11\n",
    "idmat = np.identity(4)\n",
    "idmat"
   ]
  },
  {
   "cell_type": "code",
   "execution_count": 39,
   "metadata": {},
   "outputs": [
    {
     "name": "stdout",
     "output_type": "stream",
     "text": [
      "[-1.05637728 -1.12806835 -0.86167446]\n",
      "[-1.05637728 -1.12806835 -0.86167446]\n"
     ]
    }
   ],
   "source": [
    "#5.12\n",
    "vect1 = np.random.randn(5)\n",
    "print(vect1[1:4])\n",
    "print(vect1[1:4])"
   ]
  },
  {
   "cell_type": "code",
   "execution_count": 40,
   "metadata": {},
   "outputs": [
    {
     "data": {
      "text/plain": [
       "array([0.78682751])"
      ]
     },
     "execution_count": 40,
     "metadata": {},
     "output_type": "execute_result"
    }
   ],
   "source": [
    "#5.13\n",
    "vect1[vect1>.15]"
   ]
  },
  {
   "cell_type": "code",
   "execution_count": 41,
   "metadata": {},
   "outputs": [
    {
     "data": {
      "text/plain": [
       "array([[-0.67009083,  1.92842509],\n",
       "       [ 0.29396377,  0.74544846]])"
      ]
     },
     "execution_count": 41,
     "metadata": {},
     "output_type": "execute_result"
    }
   ],
   "source": [
    "#5.14\n",
    "rand33 = np.random.randn(3,3)\n",
    "rand33[1:,:2]"
   ]
  },
  {
   "cell_type": "code",
   "execution_count": 42,
   "metadata": {},
   "outputs": [
    {
     "name": "stdout",
     "output_type": "stream",
     "text": [
      "[[ 0.47626851  1.05908242 -0.45701244]\n",
      " [-0.67009083  1.92842509  1.93540308]\n",
      " [ 0.29396377  0.74544846  0.0895093 ]]\n",
      "[[0.47626851 1.05908242 0.        ]\n",
      " [0.         1.92842509 1.93540308]\n",
      " [0.29396377 0.74544846 0.0895093 ]]\n"
     ]
    }
   ],
   "source": [
    "#5.15\n",
    "newrand = rand33.copy()\n",
    "newrand[newrand<0] = 0\n",
    "print(rand33)\n",
    "print(newrand)"
   ]
  },
  {
   "cell_type": "code",
   "execution_count": null,
   "metadata": {},
   "outputs": [],
   "source": [
    "#5.16\n",
    "#out of time"
   ]
  }
 ],
 "metadata": {
  "kernelspec": {
   "display_name": "Python 3",
   "language": "python",
   "name": "python3"
  },
  "language_info": {
   "codemirror_mode": {
    "name": "ipython",
    "version": 3
   },
   "file_extension": ".py",
   "mimetype": "text/x-python",
   "name": "python",
   "nbconvert_exporter": "python",
   "pygments_lexer": "ipython3",
   "version": "3.8.8"
  }
 },
 "nbformat": 4,
 "nbformat_minor": 4
}
